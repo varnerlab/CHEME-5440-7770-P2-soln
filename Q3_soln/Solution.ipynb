{
 "cells": [
  {
   "cell_type": "markdown",
   "metadata": {},
   "source": [
    "### Estimate enzyme concentration in a growing population of _E coli_ cells"
   ]
  },
  {
   "cell_type": "markdown",
   "metadata": {},
   "source": [
    "a) Starting from the mRNA ($m_{i}$) and protein ($p_{i}$) balances from the course notes:\n",
    "\n",
    "\\begin{eqnarray}\n",
    "\\dot{m}_{i} &=& r_{X,i}\\bar{u}_{i}-\\left(\\mu+\\theta_{m,i}\\right)m_{i}\\qquad{i=1,2,\\dots,N}\\\\\n",
    "\\dot{p}_{i} &=& r_{L,i}w_{i}-\\left(\\mu+\\theta_{p,i}\\right)p_{i}\n",
    "\\end{eqnarray}\n",
    "\n",
    "derive an expression describing the intracellular steady-state protein concentration of the form:\n",
    "\\begin{equation}\n",
    "p^{*}_{i}\\simeq\\mathcal{K}_{L,i}\\mathcal{K}_{X,i}\\bar{u}_{i}w_{i}\n",
    "\\end{equation}\n",
    "\n",
    "where $\\mathcal{K}_{L,i}$ denotes the translation gain for protein $i$,\n",
    "$\\mathcal{K}_{X,i}$ denotes the transcription gain for the gene encoding protein $i$,\n",
    "$\\bar{u}_{i}$ denotes the transcriptional control function (unregulated and regulated) for the gene encoding protein $i$, and\n",
    "$w_{j}$ denotes the translational control function for protein $i$."
   ]
  },
  {
   "cell_type": "markdown",
   "metadata": {},
   "source": [
    "#### Solution a)"
   ]
  },
  {
   "cell_type": "markdown",
   "metadata": {},
   "source": [
    "Starting from the steady-state mRNA balance equation, at steady-state, all time derivatives vanish giving:\n",
    "\n",
    "\\begin{equation}\n",
    "r_{X,i}\\bar{u}_{i} - \\left(\\mu+\\theta_{m,i}\\right)m^{*}_{i} = 0\n",
    "\\end{equation}\n",
    "\n",
    "which can be solved for the steady-state mRNA concentration:\n",
    "\n",
    "\\begin{equation}\n",
    "m_{i}^{*} = \\left[\\frac{r_{X,i}}{\\left(\\mu+\\theta_{m,i}\\right)}\\right]\\bar{u}_{i}\n",
    "\\end{equation}\n",
    "Thus, the gain $\\mathcal{K}_{X}$:\n",
    "\n",
    "\\begin{equation}\n",
    "\\mathcal{K}_{X} \\equiv \\left[\\frac{r_{X,i}}{\\left(\\mu+\\theta_{m,i}\\right)}\\right]\n",
    "\\end{equation} is the kinetic limit of transcription normalized by the sum of the degradation and dilution terms. From the class notes, and the problem assumptions, the rate of translation reduces to:\n",
    "\n",
    "\\begin{equation}\\label{eq:kinetic-translation}\n",
    "\tr_{L,j} \\simeq k^{L}_{E,j}R_{L,T}\\left(\\frac{m_{j}}{\\tau_{L,j}K_{L,j}}\\right)\n",
    "\\end{equation} \n",
    "\n",
    "which after substitution gives:\n",
    "\n",
    "\\begin{equation}\n",
    "r_{L,j} = \\left(\\frac{k^{L}_{E,j}R_{L,T}}{\\tau_{L,j}K_{L,j}}\\right)\\mathcal{K}_{X}\\bar{u}_{i}\n",
    "\\end{equation}\n",
    "\n",
    "At steady-state, we can solve the protein balance for the steady-state protein concentration $p_{i}^{*}$:\n",
    "\n",
    "\\begin{equation}\n",
    "p_{i}^{*} \\simeq \\frac{r_{L,i}w_{i}}{\\left(\\mu+\\theta_{p,i}\\right)}\n",
    "\\end{equation}\n",
    "\n",
    "and substitute the $r_{L,i}$ into the steady-state protein balance:\n",
    "\n",
    "\\begin{equation}\n",
    "p_{i}^{*} \\simeq \\left(\\frac{k^{L}_{E,j}R_{L,T}}{\\left(\\mu+\\theta_{p,i}\\right)\\tau_{L,j}K_{L,j}}\\right)\\mathcal{K}_{X}\\bar{u}_{i}w_{i}\n",
    "\\end{equation}\n",
    "\n",
    "Thus, the term in the parenthesis is the translation gain $\\mathcal{K}_{L}$, or:\n",
    "\n",
    "\\begin{equation}\n",
    "p_{i}^{*} \\simeq \\mathcal{K}_{L,i}\\mathcal{K}_{X,i}\\bar{u}_{i}w_{i}\n",
    "\\end{equation}"
   ]
  },
  {
   "cell_type": "code",
   "execution_count": null,
   "metadata": {},
   "outputs": [],
   "source": []
  }
 ],
 "metadata": {
  "kernelspec": {
   "display_name": "Julia 1.4.2",
   "language": "julia",
   "name": "julia-1.4"
  },
  "language_info": {
   "file_extension": ".jl",
   "mimetype": "application/julia",
   "name": "julia",
   "version": "1.4.2"
  }
 },
 "nbformat": 4,
 "nbformat_minor": 2
}
